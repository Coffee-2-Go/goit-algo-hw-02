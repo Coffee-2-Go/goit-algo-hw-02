{
  "nbformat": 4,
  "nbformat_minor": 0,
  "metadata": {
    "colab": {
      "provenance": []
    },
    "kernelspec": {
      "name": "python3",
      "display_name": "Python 3"
    },
    "language_info": {
      "name": "python"
    }
  },
  "cells": [
    {
      "cell_type": "markdown",
      "source": [
        "\n",
        "# Опис домашнього завдання"
      ],
      "metadata": {
        "id": "qgQeaCRtYXiX"
      }
    },
    {
      "cell_type": "markdown",
      "source": [
        "# Завдання 1\n",
        "Потрібно розробити програму, яка імітує приймання й обробку заявок:\n",
        "- програма має автоматично генерувати нові заявки (ідентифіковані унікальним номером або іншими даними);\n",
        "- додавати їх до черги, а потім послідовно видаляти з черги для \"обробки\" імітуючи таким чином роботу сервісного центру."
      ],
      "metadata": {
        "id": "AQsl6FeF0Sq3"
      }
    },
    {
      "cell_type": "code",
      "source": [
        "from queue import Queue\n",
        "\n",
        "queue = Queue()     # Створити чергу заявок\n",
        "max_cycles = 10     # Максимальна кількість циклів\n",
        "\n",
        "def generate_request():\n",
        "    global queue\n",
        "    request = \"New request\"     # Створити нову заявку\n",
        "    queue.put(request)          # Додати заявку до черги\n",
        "    print(\"New request generated and added to the queue.\")\n",
        "\n",
        "\n",
        "def process_request():\n",
        "    global queue\n",
        "    if not queue.empty():       # Перевіряємо, чи черга не порожня\n",
        "#     Якщо черга не порожня:\n",
        "#         Видалити заявку з черги\n",
        "        request = queue.get()\n",
        "        print(\"Processing request:\", request)   # Обробити заявку\n",
        "    else:\n",
        "        print(\"Queue is empty.\")                # Вивести повідомлення, що черга порожня\n",
        "\n",
        "\n",
        "def main():          # Головний цикл програми:\n",
        "    cycle_count = 0  # Лічильник циклів\n",
        "    while cycle_count < max_cycles:  # Поки не досягнуто максимальної кількості циклів\n",
        "        generate_request()           # Виконати generate_request() для створення нових заявок\n",
        "        process_request()            # Виконати process_request() для обробки заявок\n",
        "        cycle_count += 1             # Збільшити лічильник циклів після кожного циклу\n",
        "\n",
        "\n",
        "main()"
      ],
      "metadata": {
        "id": "KjDk59pjZMHH",
        "outputId": "34d45ce1-33e9-4e35-e0d9-438f60bd125a",
        "colab": {
          "base_uri": "https://localhost:8080/"
        }
      },
      "execution_count": 4,
      "outputs": [
        {
          "output_type": "stream",
          "name": "stdout",
          "text": [
            "New request generated and added to the queue.\n",
            "Processing request: New request\n",
            "New request generated and added to the queue.\n",
            "Processing request: New request\n",
            "New request generated and added to the queue.\n",
            "Processing request: New request\n",
            "New request generated and added to the queue.\n",
            "Processing request: New request\n",
            "New request generated and added to the queue.\n",
            "Processing request: New request\n",
            "New request generated and added to the queue.\n",
            "Processing request: New request\n",
            "New request generated and added to the queue.\n",
            "Processing request: New request\n",
            "New request generated and added to the queue.\n",
            "Processing request: New request\n",
            "New request generated and added to the queue.\n",
            "Processing request: New request\n",
            "New request generated and added to the queue.\n",
            "Processing request: New request\n"
          ]
        }
      ]
    },
    {
      "cell_type": "markdown",
      "source": [
        "У цьому псевдокоді використовуються дві основні функції: generate_request(), яка генерує нові заявки та додає їх до черги, та process_request(), яка обробляє заявки, видаляючи їх із черги. Головний цикл програми виконує ці функції, імітуючи постійний потік нових заявок та їх обробку."
      ],
      "metadata": {
        "id": "ajYBn7W_aC8m"
      }
    },
    {
      "cell_type": "markdown",
      "source": [
        "# Завдання 2\n",
        "Необхідно розробити функцію, яка приймає рядок як вхідний параметр, додає всі його символи до двосторонньої черги (deque з модуля collections в Python), а потім порівнює символи з обох кінців черги, щоб визначити, чи є рядок паліндромом. Програма повинна правильно враховувати як рядки з парною, так і з непарною кількістю символів, а також бути нечутливою до регістру та пробілів."
      ],
      "metadata": {
        "id": "W-FFJ2oK0TTF"
      }
    },
    {
      "cell_type": "code",
      "source": [
        "from collections import deque\n",
        "\n",
        "def is_palindrome(input_string):\n",
        "    # Перетворення рядка в нижній регістр і видалення пробілів\n",
        "    input_string = input_string.lower().replace(\" \", \"\")\n",
        "\n",
        "    # Створення двосторонньої черги\n",
        "    queue = deque(input_string)\n",
        "\n",
        "    # Порівняння символів з обох кінців черги\n",
        "    while len(queue) > 1:\n",
        "        # Видаляємо символи з обох кінців черги\n",
        "        first = queue.popleft()\n",
        "        last = queue.pop()\n",
        "        # Порівнюємо їх\n",
        "        if first != last:\n",
        "            return False  # Якщо символи не співпадають, то рядок не є паліндромом\n",
        "    return True  # Якщо усі символи співпадають, то рядок є паліндромом"
      ],
      "metadata": {
        "id": "krE4_MLkCchf"
      },
      "execution_count": 7,
      "outputs": []
    },
    {
      "cell_type": "code",
      "source": [
        "test_phrases = [\"A Santa at NASA\", \"Today is a beautiful day\"]\n",
        "\n",
        "for test_phrase in test_phrases:\n",
        "    print(f\"{test_phrase} -> {is_palindrome(test_phrase)}\")"
      ],
      "metadata": {
        "colab": {
          "base_uri": "https://localhost:8080/"
        },
        "id": "LlhFM7SQt7ym",
        "outputId": "1972bd4e-20f7-4c3e-c889-31db3eccbe4a"
      },
      "execution_count": 10,
      "outputs": [
        {
          "output_type": "stream",
          "name": "stdout",
          "text": [
            "A Santa at NASA -> True\n",
            "Today is a beautiful day -> False\n"
          ]
        }
      ]
    },
    {
      "cell_type": "markdown",
      "source": [
        "# Завдання 3  (необов'язкове завдання)"
      ],
      "metadata": {
        "id": "4Hskh6fFb89N"
      }
    },
    {
      "cell_type": "markdown",
      "source": [
        "Напишіть програму, яка читає рядок з послідовністю символів-розділювачів, наприклад, ( ) { [ ] ( ) ( ) { } } }, і надає відповідне повідомлення, коли розділювачі симетричні, несиметричні, наприклад ( ( ( ) , або коли розділювачі різних видів стоять у парі, як-от ( }.\n",
        "\n",
        "!  💡 Використовуйте стек, щоб запам'ятати відкриті в даний момент символи-розділювачі."
      ],
      "metadata": {
        "id": "WW9HvfOXb8Vq"
      }
    },
    {
      "cell_type": "code",
      "source": [
        "def check_symmetry(input_string):\n",
        "    stack = []  # Стек для зберігання відкритих розділювачів\n",
        "\n",
        "    opening = \"({[\"  # Відкриваючі розділювачі\n",
        "    closing = \")}]\"  # Закриваючі розділювачі\n",
        "\n",
        "    for char in input_string:\n",
        "        if char in opening:\n",
        "            stack.append(char)  # Додати відкритий розділювач у стек\n",
        "        elif char in closing:\n",
        "            if not stack:  # Якщо стек порожній\n",
        "                return \"Несиметрично\"\n",
        "            last_opening = stack.pop()  # Видалити останній відкритий розділювач зі стеку\n",
        "            if opening.index(last_opening) != closing.index(char):\n",
        "                return \"Несиметрично\"\n",
        "\n",
        "    if stack:  # Якщо в стеці залишилися відкриті розділювачі\n",
        "        return \"Несиметрично\"\n",
        "    else:\n",
        "        return \"Симетрично\""
      ],
      "metadata": {
        "id": "oSHjz-EngtYv"
      },
      "execution_count": 5,
      "outputs": []
    },
    {
      "cell_type": "code",
      "source": [
        "test_expressions = [\"( ){[ 1 ]( 1 + 3 )( ){ }}\", \"( 23 ( 2 - 3);\", \"( 11 }\"]\n",
        "\n",
        "for test_expression in test_expressions:\n",
        "    print(f\"{test_expression} -> {check_symmetry(test_expression)}\")"
      ],
      "metadata": {
        "colab": {
          "base_uri": "https://localhost:8080/"
        },
        "id": "6ZvVM7x6ttHd",
        "outputId": "bbc56324-f397-40a0-f52b-fcd4b5729919"
      },
      "execution_count": 6,
      "outputs": [
        {
          "output_type": "stream",
          "name": "stdout",
          "text": [
            "( ){[ 1 ]( 1 + 3 )( ){ }} -> Симетрично\n",
            "( 23 ( 2 - 3); -> Несиметрично\n",
            "( 11 } -> Несиметрично\n"
          ]
        }
      ]
    }
  ]
}